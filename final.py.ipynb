{
  "cells": [
    {
      "cell_type": "code",
      "execution_count": 29,
      "metadata": {
        "id": "ZoWeErbahRde"
      },
      "outputs": [],
      "source": [
        "\n",
        "# Abel Bellido"
      ]
    },
    {
      "cell_type": "code",
      "execution_count": 30,
      "metadata": {
        "id": "eAFqyZJr2pK0"
      },
      "outputs": [],
      "source": [
        "import pandas as pd"
      ]
    },
    {
      "cell_type": "code",
      "execution_count": 31,
      "metadata": {
        "id": "RMt8z2n73mZl"
      },
      "outputs": [],
      "source": [
        "#1- Cargar la información del dataset y entenderlo.\n",
        "dataset_url = \"https://raw.githubusercontent.com/jbrownlee/Datasets/master/pima-indians-diabetes.data.csv\"\n",
        "columns = [\"pregnancies\", \"glucose\", \"blood_pressure\", \"skin_thickness\", \"insulin\", \"bmi\", \"diabetes_pedigree\", \"age\", \"target\"]\n",
        "df = pd.read_csv(dataset_url, names=columns)"
      ]
    },
    {
      "cell_type": "code",
      "execution_count": 32,
      "metadata": {
        "colab": {
          "base_uri": "https://localhost:8080/",
          "height": 424
        },
        "id": "nBjtAbgS-7et",
        "outputId": "1c668c5d-8b28-4555-fe00-9d9bcde8c1ba"
      },
      "outputs": [
        {
          "data": {
            "text/html": [
              "<div>\n",
              "<style scoped>\n",
              "    .dataframe tbody tr th:only-of-type {\n",
              "        vertical-align: middle;\n",
              "    }\n",
              "\n",
              "    .dataframe tbody tr th {\n",
              "        vertical-align: top;\n",
              "    }\n",
              "\n",
              "    .dataframe thead th {\n",
              "        text-align: right;\n",
              "    }\n",
              "</style>\n",
              "<table border=\"1\" class=\"dataframe\">\n",
              "  <thead>\n",
              "    <tr style=\"text-align: right;\">\n",
              "      <th></th>\n",
              "      <th>pregnancies</th>\n",
              "      <th>glucose</th>\n",
              "      <th>blood_pressure</th>\n",
              "      <th>skin_thickness</th>\n",
              "      <th>insulin</th>\n",
              "      <th>bmi</th>\n",
              "      <th>diabetes_pedigree</th>\n",
              "      <th>age</th>\n",
              "      <th>target</th>\n",
              "    </tr>\n",
              "  </thead>\n",
              "  <tbody>\n",
              "    <tr>\n",
              "      <th>0</th>\n",
              "      <td>6</td>\n",
              "      <td>148</td>\n",
              "      <td>72</td>\n",
              "      <td>35</td>\n",
              "      <td>0</td>\n",
              "      <td>33.6</td>\n",
              "      <td>0.627</td>\n",
              "      <td>50</td>\n",
              "      <td>1</td>\n",
              "    </tr>\n",
              "    <tr>\n",
              "      <th>1</th>\n",
              "      <td>1</td>\n",
              "      <td>85</td>\n",
              "      <td>66</td>\n",
              "      <td>29</td>\n",
              "      <td>0</td>\n",
              "      <td>26.6</td>\n",
              "      <td>0.351</td>\n",
              "      <td>31</td>\n",
              "      <td>0</td>\n",
              "    </tr>\n",
              "    <tr>\n",
              "      <th>2</th>\n",
              "      <td>8</td>\n",
              "      <td>183</td>\n",
              "      <td>64</td>\n",
              "      <td>0</td>\n",
              "      <td>0</td>\n",
              "      <td>23.3</td>\n",
              "      <td>0.672</td>\n",
              "      <td>32</td>\n",
              "      <td>1</td>\n",
              "    </tr>\n",
              "    <tr>\n",
              "      <th>3</th>\n",
              "      <td>1</td>\n",
              "      <td>89</td>\n",
              "      <td>66</td>\n",
              "      <td>23</td>\n",
              "      <td>94</td>\n",
              "      <td>28.1</td>\n",
              "      <td>0.167</td>\n",
              "      <td>21</td>\n",
              "      <td>0</td>\n",
              "    </tr>\n",
              "    <tr>\n",
              "      <th>4</th>\n",
              "      <td>0</td>\n",
              "      <td>137</td>\n",
              "      <td>40</td>\n",
              "      <td>35</td>\n",
              "      <td>168</td>\n",
              "      <td>43.1</td>\n",
              "      <td>2.288</td>\n",
              "      <td>33</td>\n",
              "      <td>1</td>\n",
              "    </tr>\n",
              "    <tr>\n",
              "      <th>...</th>\n",
              "      <td>...</td>\n",
              "      <td>...</td>\n",
              "      <td>...</td>\n",
              "      <td>...</td>\n",
              "      <td>...</td>\n",
              "      <td>...</td>\n",
              "      <td>...</td>\n",
              "      <td>...</td>\n",
              "      <td>...</td>\n",
              "    </tr>\n",
              "    <tr>\n",
              "      <th>763</th>\n",
              "      <td>10</td>\n",
              "      <td>101</td>\n",
              "      <td>76</td>\n",
              "      <td>48</td>\n",
              "      <td>180</td>\n",
              "      <td>32.9</td>\n",
              "      <td>0.171</td>\n",
              "      <td>63</td>\n",
              "      <td>0</td>\n",
              "    </tr>\n",
              "    <tr>\n",
              "      <th>764</th>\n",
              "      <td>2</td>\n",
              "      <td>122</td>\n",
              "      <td>70</td>\n",
              "      <td>27</td>\n",
              "      <td>0</td>\n",
              "      <td>36.8</td>\n",
              "      <td>0.340</td>\n",
              "      <td>27</td>\n",
              "      <td>0</td>\n",
              "    </tr>\n",
              "    <tr>\n",
              "      <th>765</th>\n",
              "      <td>5</td>\n",
              "      <td>121</td>\n",
              "      <td>72</td>\n",
              "      <td>23</td>\n",
              "      <td>112</td>\n",
              "      <td>26.2</td>\n",
              "      <td>0.245</td>\n",
              "      <td>30</td>\n",
              "      <td>0</td>\n",
              "    </tr>\n",
              "    <tr>\n",
              "      <th>766</th>\n",
              "      <td>1</td>\n",
              "      <td>126</td>\n",
              "      <td>60</td>\n",
              "      <td>0</td>\n",
              "      <td>0</td>\n",
              "      <td>30.1</td>\n",
              "      <td>0.349</td>\n",
              "      <td>47</td>\n",
              "      <td>1</td>\n",
              "    </tr>\n",
              "    <tr>\n",
              "      <th>767</th>\n",
              "      <td>1</td>\n",
              "      <td>93</td>\n",
              "      <td>70</td>\n",
              "      <td>31</td>\n",
              "      <td>0</td>\n",
              "      <td>30.4</td>\n",
              "      <td>0.315</td>\n",
              "      <td>23</td>\n",
              "      <td>0</td>\n",
              "    </tr>\n",
              "  </tbody>\n",
              "</table>\n",
              "<p>768 rows × 9 columns</p>\n",
              "</div>"
            ],
            "text/plain": [
              "     pregnancies  glucose  blood_pressure  skin_thickness  insulin   bmi  \\\n",
              "0              6      148              72              35        0  33.6   \n",
              "1              1       85              66              29        0  26.6   \n",
              "2              8      183              64               0        0  23.3   \n",
              "3              1       89              66              23       94  28.1   \n",
              "4              0      137              40              35      168  43.1   \n",
              "..           ...      ...             ...             ...      ...   ...   \n",
              "763           10      101              76              48      180  32.9   \n",
              "764            2      122              70              27        0  36.8   \n",
              "765            5      121              72              23      112  26.2   \n",
              "766            1      126              60               0        0  30.1   \n",
              "767            1       93              70              31        0  30.4   \n",
              "\n",
              "     diabetes_pedigree  age  target  \n",
              "0                0.627   50       1  \n",
              "1                0.351   31       0  \n",
              "2                0.672   32       1  \n",
              "3                0.167   21       0  \n",
              "4                2.288   33       1  \n",
              "..                 ...  ...     ...  \n",
              "763              0.171   63       0  \n",
              "764              0.340   27       0  \n",
              "765              0.245   30       0  \n",
              "766              0.349   47       1  \n",
              "767              0.315   23       0  \n",
              "\n",
              "[768 rows x 9 columns]"
            ]
          },
          "execution_count": 32,
          "metadata": {},
          "output_type": "execute_result"
        }
      ],
      "source": [
        "# Visualización\n",
        "df"
      ]
    },
    {
      "cell_type": "code",
      "execution_count": 33,
      "metadata": {
        "id": "-SmnapPW5obg"
      },
      "outputs": [],
      "source": [
        "#1- Asimismo se debe volcar la información de inputs \"data\" en una variable X y el output \"target\" en otra variable Y e indicar que tipos de datos\n",
        "X = df.iloc[:, :-1].values  # X = Variables independientes (pregnancies,glucose,blood_pressure,skin_thickness,insulin,bmi,diabetes_pedigree,age)\n",
        "Y = df.iloc[:, -1].values  # Y = Variable dependiente (target)"
      ]
    },
    {
      "cell_type": "code",
      "execution_count": 34,
      "metadata": {
        "colab": {
          "base_uri": "https://localhost:8080/"
        },
        "id": "pKeye2qS7aDK",
        "outputId": "81b00881-2ab4-4261-9bb2-2084db85fb32"
      },
      "outputs": [
        {
          "data": {
            "text/plain": [
              "['pregnancies',\n",
              " 'glucose',\n",
              " 'blood_pressure',\n",
              " 'skin_thickness',\n",
              " 'insulin',\n",
              " 'bmi',\n",
              " 'diabetes_pedigree',\n",
              " 'age']"
            ]
          },
          "execution_count": 34,
          "metadata": {},
          "output_type": "execute_result"
        }
      ],
      "source": [
        "#1-Finalmente se debe guardar en una variable los nombres de las variables de estudio \"feature_names\" (o etiquetas).#\n",
        "feature_names = columns[:-1]\n",
        "feature_names\n",
        "# Se considera variables de estudio a todas las variables menos a target ya que este es la variable dependiente. #"
      ]
    },
    {
      "cell_type": "code",
      "execution_count": 35,
      "metadata": {
        "colab": {
          "base_uri": "https://localhost:8080/",
          "height": 424
        },
        "id": "VdrwZ19DLI4R",
        "outputId": "80ed65f7-ce2a-4864-9abd-e91538761c71"
      },
      "outputs": [
        {
          "data": {
            "text/html": [
              "<div>\n",
              "<style scoped>\n",
              "    .dataframe tbody tr th:only-of-type {\n",
              "        vertical-align: middle;\n",
              "    }\n",
              "\n",
              "    .dataframe tbody tr th {\n",
              "        vertical-align: top;\n",
              "    }\n",
              "\n",
              "    .dataframe thead th {\n",
              "        text-align: right;\n",
              "    }\n",
              "</style>\n",
              "<table border=\"1\" class=\"dataframe\">\n",
              "  <thead>\n",
              "    <tr style=\"text-align: right;\">\n",
              "      <th></th>\n",
              "      <th>pregnancies</th>\n",
              "      <th>glucose</th>\n",
              "      <th>blood_pressure</th>\n",
              "      <th>skin_thickness</th>\n",
              "      <th>insulin</th>\n",
              "      <th>bmi</th>\n",
              "      <th>diabetes_pedigree</th>\n",
              "      <th>age</th>\n",
              "    </tr>\n",
              "  </thead>\n",
              "  <tbody>\n",
              "    <tr>\n",
              "      <th>0</th>\n",
              "      <td>6.0</td>\n",
              "      <td>148.0</td>\n",
              "      <td>72.0</td>\n",
              "      <td>35.0</td>\n",
              "      <td>0.0</td>\n",
              "      <td>33.6</td>\n",
              "      <td>0.627</td>\n",
              "      <td>50.0</td>\n",
              "    </tr>\n",
              "    <tr>\n",
              "      <th>1</th>\n",
              "      <td>1.0</td>\n",
              "      <td>85.0</td>\n",
              "      <td>66.0</td>\n",
              "      <td>29.0</td>\n",
              "      <td>0.0</td>\n",
              "      <td>26.6</td>\n",
              "      <td>0.351</td>\n",
              "      <td>31.0</td>\n",
              "    </tr>\n",
              "    <tr>\n",
              "      <th>2</th>\n",
              "      <td>8.0</td>\n",
              "      <td>183.0</td>\n",
              "      <td>64.0</td>\n",
              "      <td>0.0</td>\n",
              "      <td>0.0</td>\n",
              "      <td>23.3</td>\n",
              "      <td>0.672</td>\n",
              "      <td>32.0</td>\n",
              "    </tr>\n",
              "    <tr>\n",
              "      <th>3</th>\n",
              "      <td>1.0</td>\n",
              "      <td>89.0</td>\n",
              "      <td>66.0</td>\n",
              "      <td>23.0</td>\n",
              "      <td>94.0</td>\n",
              "      <td>28.1</td>\n",
              "      <td>0.167</td>\n",
              "      <td>21.0</td>\n",
              "    </tr>\n",
              "    <tr>\n",
              "      <th>4</th>\n",
              "      <td>0.0</td>\n",
              "      <td>137.0</td>\n",
              "      <td>40.0</td>\n",
              "      <td>35.0</td>\n",
              "      <td>168.0</td>\n",
              "      <td>43.1</td>\n",
              "      <td>2.288</td>\n",
              "      <td>33.0</td>\n",
              "    </tr>\n",
              "    <tr>\n",
              "      <th>...</th>\n",
              "      <td>...</td>\n",
              "      <td>...</td>\n",
              "      <td>...</td>\n",
              "      <td>...</td>\n",
              "      <td>...</td>\n",
              "      <td>...</td>\n",
              "      <td>...</td>\n",
              "      <td>...</td>\n",
              "    </tr>\n",
              "    <tr>\n",
              "      <th>763</th>\n",
              "      <td>10.0</td>\n",
              "      <td>101.0</td>\n",
              "      <td>76.0</td>\n",
              "      <td>48.0</td>\n",
              "      <td>180.0</td>\n",
              "      <td>32.9</td>\n",
              "      <td>0.171</td>\n",
              "      <td>63.0</td>\n",
              "    </tr>\n",
              "    <tr>\n",
              "      <th>764</th>\n",
              "      <td>2.0</td>\n",
              "      <td>122.0</td>\n",
              "      <td>70.0</td>\n",
              "      <td>27.0</td>\n",
              "      <td>0.0</td>\n",
              "      <td>36.8</td>\n",
              "      <td>0.340</td>\n",
              "      <td>27.0</td>\n",
              "    </tr>\n",
              "    <tr>\n",
              "      <th>765</th>\n",
              "      <td>5.0</td>\n",
              "      <td>121.0</td>\n",
              "      <td>72.0</td>\n",
              "      <td>23.0</td>\n",
              "      <td>112.0</td>\n",
              "      <td>26.2</td>\n",
              "      <td>0.245</td>\n",
              "      <td>30.0</td>\n",
              "    </tr>\n",
              "    <tr>\n",
              "      <th>766</th>\n",
              "      <td>1.0</td>\n",
              "      <td>126.0</td>\n",
              "      <td>60.0</td>\n",
              "      <td>0.0</td>\n",
              "      <td>0.0</td>\n",
              "      <td>30.1</td>\n",
              "      <td>0.349</td>\n",
              "      <td>47.0</td>\n",
              "    </tr>\n",
              "    <tr>\n",
              "      <th>767</th>\n",
              "      <td>1.0</td>\n",
              "      <td>93.0</td>\n",
              "      <td>70.0</td>\n",
              "      <td>31.0</td>\n",
              "      <td>0.0</td>\n",
              "      <td>30.4</td>\n",
              "      <td>0.315</td>\n",
              "      <td>23.0</td>\n",
              "    </tr>\n",
              "  </tbody>\n",
              "</table>\n",
              "<p>768 rows × 8 columns</p>\n",
              "</div>"
            ],
            "text/plain": [
              "     pregnancies  glucose  blood_pressure  skin_thickness  insulin   bmi  \\\n",
              "0            6.0    148.0            72.0            35.0      0.0  33.6   \n",
              "1            1.0     85.0            66.0            29.0      0.0  26.6   \n",
              "2            8.0    183.0            64.0             0.0      0.0  23.3   \n",
              "3            1.0     89.0            66.0            23.0     94.0  28.1   \n",
              "4            0.0    137.0            40.0            35.0    168.0  43.1   \n",
              "..           ...      ...             ...             ...      ...   ...   \n",
              "763         10.0    101.0            76.0            48.0    180.0  32.9   \n",
              "764          2.0    122.0            70.0            27.0      0.0  36.8   \n",
              "765          5.0    121.0            72.0            23.0    112.0  26.2   \n",
              "766          1.0    126.0            60.0             0.0      0.0  30.1   \n",
              "767          1.0     93.0            70.0            31.0      0.0  30.4   \n",
              "\n",
              "     diabetes_pedigree   age  \n",
              "0                0.627  50.0  \n",
              "1                0.351  31.0  \n",
              "2                0.672  32.0  \n",
              "3                0.167  21.0  \n",
              "4                2.288  33.0  \n",
              "..                 ...   ...  \n",
              "763              0.171  63.0  \n",
              "764              0.340  27.0  \n",
              "765              0.245  30.0  \n",
              "766              0.349  47.0  \n",
              "767              0.315  23.0  \n",
              "\n",
              "[768 rows x 8 columns]"
            ]
          },
          "execution_count": 35,
          "metadata": {},
          "output_type": "execute_result"
        }
      ],
      "source": [
        "#2-Se debe generar el dataframe con las etiquetas y la data cargada en punto1\n",
        "df_diabetes = pd.DataFrame(X, columns=feature_names)\n",
        "df_diabetes"
      ]
    },
    {
      "cell_type": "code",
      "execution_count": 36,
      "metadata": {
        "id": "EmuxV0bGs7yh"
      },
      "outputs": [],
      "source": [
        "#Se generó el dataframe con la data de la variable X."
      ]
    },
    {
      "cell_type": "code",
      "execution_count": 37,
      "metadata": {
        "colab": {
          "base_uri": "https://localhost:8080/",
          "height": 424
        },
        "id": "BCM4i5mx12iL",
        "outputId": "3ad32789-043b-46b6-d1b4-49612e1135b2"
      },
      "outputs": [
        {
          "data": {
            "text/html": [
              "<div>\n",
              "<style scoped>\n",
              "    .dataframe tbody tr th:only-of-type {\n",
              "        vertical-align: middle;\n",
              "    }\n",
              "\n",
              "    .dataframe tbody tr th {\n",
              "        vertical-align: top;\n",
              "    }\n",
              "\n",
              "    .dataframe thead th {\n",
              "        text-align: right;\n",
              "    }\n",
              "</style>\n",
              "<table border=\"1\" class=\"dataframe\">\n",
              "  <thead>\n",
              "    <tr style=\"text-align: right;\">\n",
              "      <th></th>\n",
              "      <th>glucose</th>\n",
              "      <th>blood_pressure</th>\n",
              "      <th>skin_thickness</th>\n",
              "      <th>insulin</th>\n",
              "      <th>bmi</th>\n",
              "      <th>diabetes_pedigree</th>\n",
              "    </tr>\n",
              "  </thead>\n",
              "  <tbody>\n",
              "    <tr>\n",
              "      <th>0</th>\n",
              "      <td>148.0</td>\n",
              "      <td>72.0</td>\n",
              "      <td>35.0</td>\n",
              "      <td>0.0</td>\n",
              "      <td>33.6</td>\n",
              "      <td>0.627</td>\n",
              "    </tr>\n",
              "    <tr>\n",
              "      <th>1</th>\n",
              "      <td>85.0</td>\n",
              "      <td>66.0</td>\n",
              "      <td>29.0</td>\n",
              "      <td>0.0</td>\n",
              "      <td>26.6</td>\n",
              "      <td>0.351</td>\n",
              "    </tr>\n",
              "    <tr>\n",
              "      <th>2</th>\n",
              "      <td>183.0</td>\n",
              "      <td>64.0</td>\n",
              "      <td>0.0</td>\n",
              "      <td>0.0</td>\n",
              "      <td>23.3</td>\n",
              "      <td>0.672</td>\n",
              "    </tr>\n",
              "    <tr>\n",
              "      <th>3</th>\n",
              "      <td>89.0</td>\n",
              "      <td>66.0</td>\n",
              "      <td>23.0</td>\n",
              "      <td>94.0</td>\n",
              "      <td>28.1</td>\n",
              "      <td>0.167</td>\n",
              "    </tr>\n",
              "    <tr>\n",
              "      <th>4</th>\n",
              "      <td>137.0</td>\n",
              "      <td>40.0</td>\n",
              "      <td>35.0</td>\n",
              "      <td>168.0</td>\n",
              "      <td>43.1</td>\n",
              "      <td>2.288</td>\n",
              "    </tr>\n",
              "    <tr>\n",
              "      <th>...</th>\n",
              "      <td>...</td>\n",
              "      <td>...</td>\n",
              "      <td>...</td>\n",
              "      <td>...</td>\n",
              "      <td>...</td>\n",
              "      <td>...</td>\n",
              "    </tr>\n",
              "    <tr>\n",
              "      <th>763</th>\n",
              "      <td>101.0</td>\n",
              "      <td>76.0</td>\n",
              "      <td>48.0</td>\n",
              "      <td>180.0</td>\n",
              "      <td>32.9</td>\n",
              "      <td>0.171</td>\n",
              "    </tr>\n",
              "    <tr>\n",
              "      <th>764</th>\n",
              "      <td>122.0</td>\n",
              "      <td>70.0</td>\n",
              "      <td>27.0</td>\n",
              "      <td>0.0</td>\n",
              "      <td>36.8</td>\n",
              "      <td>0.340</td>\n",
              "    </tr>\n",
              "    <tr>\n",
              "      <th>765</th>\n",
              "      <td>121.0</td>\n",
              "      <td>72.0</td>\n",
              "      <td>23.0</td>\n",
              "      <td>112.0</td>\n",
              "      <td>26.2</td>\n",
              "      <td>0.245</td>\n",
              "    </tr>\n",
              "    <tr>\n",
              "      <th>766</th>\n",
              "      <td>126.0</td>\n",
              "      <td>60.0</td>\n",
              "      <td>0.0</td>\n",
              "      <td>0.0</td>\n",
              "      <td>30.1</td>\n",
              "      <td>0.349</td>\n",
              "    </tr>\n",
              "    <tr>\n",
              "      <th>767</th>\n",
              "      <td>93.0</td>\n",
              "      <td>70.0</td>\n",
              "      <td>31.0</td>\n",
              "      <td>0.0</td>\n",
              "      <td>30.4</td>\n",
              "      <td>0.315</td>\n",
              "    </tr>\n",
              "  </tbody>\n",
              "</table>\n",
              "<p>768 rows × 6 columns</p>\n",
              "</div>"
            ],
            "text/plain": [
              "     glucose  blood_pressure  skin_thickness  insulin   bmi  diabetes_pedigree\n",
              "0      148.0            72.0            35.0      0.0  33.6              0.627\n",
              "1       85.0            66.0            29.0      0.0  26.6              0.351\n",
              "2      183.0            64.0             0.0      0.0  23.3              0.672\n",
              "3       89.0            66.0            23.0     94.0  28.1              0.167\n",
              "4      137.0            40.0            35.0    168.0  43.1              2.288\n",
              "..       ...             ...             ...      ...   ...                ...\n",
              "763    101.0            76.0            48.0    180.0  32.9              0.171\n",
              "764    122.0            70.0            27.0      0.0  36.8              0.340\n",
              "765    121.0            72.0            23.0    112.0  26.2              0.245\n",
              "766    126.0            60.0             0.0      0.0  30.1              0.349\n",
              "767     93.0            70.0            31.0      0.0  30.4              0.315\n",
              "\n",
              "[768 rows x 6 columns]"
            ]
          },
          "execution_count": 37,
          "metadata": {},
          "output_type": "execute_result"
        }
      ],
      "source": [
        "# 3-Se debe retirar del dataframe los campos age y pregnancies del dataframe\n",
        "df_diabetes = df_diabetes.drop(columns=[\"pregnancies\", \"age\"])\n",
        "df_diabetes"
      ]
    },
    {
      "cell_type": "code",
      "execution_count": 38,
      "metadata": {
        "colab": {
          "base_uri": "https://localhost:8080/"
        },
        "id": "0AOY-PGX4aaB",
        "outputId": "cdbe9eec-a1af-479b-83c4-62ad88b4f81a"
      },
      "outputs": [
        {
          "name": "stdout",
          "output_type": "stream",
          "text": [
            "<class 'pandas.core.frame.DataFrame'>\n",
            "RangeIndex: 768 entries, 0 to 767\n",
            "Data columns (total 9 columns):\n",
            " #   Column             Non-Null Count  Dtype  \n",
            "---  ------             --------------  -----  \n",
            " 0   pregnancies        768 non-null    int64  \n",
            " 1   glucose            768 non-null    int64  \n",
            " 2   blood_pressure     768 non-null    int64  \n",
            " 3   skin_thickness     768 non-null    int64  \n",
            " 4   insulin            768 non-null    int64  \n",
            " 5   bmi                768 non-null    float64\n",
            " 6   diabetes_pedigree  768 non-null    float64\n",
            " 7   age                768 non-null    int64  \n",
            " 8   target             768 non-null    int64  \n",
            "dtypes: float64(2), int64(7)\n",
            "memory usage: 54.1 KB\n"
          ]
        }
      ],
      "source": [
        "# 3-Asimismo se debe revisar el tipo de dato de todas las variables (indicando si booleano, entero, float etc)\n",
        "df.info()"
      ]
    },
    {
      "cell_type": "code",
      "execution_count": 39,
      "metadata": {
        "id": "Q1KFveMztRvb"
      },
      "outputs": [],
      "source": [
        "# Se puede ver que todas las variables son enteras a excepción de las variables bmi y diabetes_pedigree ya que contienen numeros decimales."
      ]
    },
    {
      "cell_type": "code",
      "execution_count": 40,
      "metadata": {
        "colab": {
          "base_uri": "https://localhost:8080/",
          "height": 300
        },
        "id": "8kH9vsmhUdMG",
        "outputId": "1bbfc979-ea49-4ab4-a872-1e8319264cba"
      },
      "outputs": [
        {
          "data": {
            "text/html": [
              "<div>\n",
              "<style scoped>\n",
              "    .dataframe tbody tr th:only-of-type {\n",
              "        vertical-align: middle;\n",
              "    }\n",
              "\n",
              "    .dataframe tbody tr th {\n",
              "        vertical-align: top;\n",
              "    }\n",
              "\n",
              "    .dataframe thead th {\n",
              "        text-align: right;\n",
              "    }\n",
              "</style>\n",
              "<table border=\"1\" class=\"dataframe\">\n",
              "  <thead>\n",
              "    <tr style=\"text-align: right;\">\n",
              "      <th></th>\n",
              "      <th>pregnancies</th>\n",
              "      <th>glucose</th>\n",
              "      <th>blood_pressure</th>\n",
              "      <th>skin_thickness</th>\n",
              "      <th>insulin</th>\n",
              "      <th>bmi</th>\n",
              "      <th>diabetes_pedigree</th>\n",
              "      <th>age</th>\n",
              "      <th>target</th>\n",
              "    </tr>\n",
              "  </thead>\n",
              "  <tbody>\n",
              "    <tr>\n",
              "      <th>count</th>\n",
              "      <td>768.000000</td>\n",
              "      <td>768.000000</td>\n",
              "      <td>768.000000</td>\n",
              "      <td>768.000000</td>\n",
              "      <td>768.000000</td>\n",
              "      <td>768.000000</td>\n",
              "      <td>768.000000</td>\n",
              "      <td>768.000000</td>\n",
              "      <td>768.000000</td>\n",
              "    </tr>\n",
              "    <tr>\n",
              "      <th>mean</th>\n",
              "      <td>3.845052</td>\n",
              "      <td>120.894531</td>\n",
              "      <td>69.105469</td>\n",
              "      <td>20.536458</td>\n",
              "      <td>79.799479</td>\n",
              "      <td>31.992578</td>\n",
              "      <td>0.471876</td>\n",
              "      <td>33.240885</td>\n",
              "      <td>0.348958</td>\n",
              "    </tr>\n",
              "    <tr>\n",
              "      <th>std</th>\n",
              "      <td>3.369578</td>\n",
              "      <td>31.972618</td>\n",
              "      <td>19.355807</td>\n",
              "      <td>15.952218</td>\n",
              "      <td>115.244002</td>\n",
              "      <td>7.884160</td>\n",
              "      <td>0.331329</td>\n",
              "      <td>11.760232</td>\n",
              "      <td>0.476951</td>\n",
              "    </tr>\n",
              "    <tr>\n",
              "      <th>min</th>\n",
              "      <td>0.000000</td>\n",
              "      <td>0.000000</td>\n",
              "      <td>0.000000</td>\n",
              "      <td>0.000000</td>\n",
              "      <td>0.000000</td>\n",
              "      <td>0.000000</td>\n",
              "      <td>0.078000</td>\n",
              "      <td>21.000000</td>\n",
              "      <td>0.000000</td>\n",
              "    </tr>\n",
              "    <tr>\n",
              "      <th>25%</th>\n",
              "      <td>1.000000</td>\n",
              "      <td>99.000000</td>\n",
              "      <td>62.000000</td>\n",
              "      <td>0.000000</td>\n",
              "      <td>0.000000</td>\n",
              "      <td>27.300000</td>\n",
              "      <td>0.243750</td>\n",
              "      <td>24.000000</td>\n",
              "      <td>0.000000</td>\n",
              "    </tr>\n",
              "    <tr>\n",
              "      <th>50%</th>\n",
              "      <td>3.000000</td>\n",
              "      <td>117.000000</td>\n",
              "      <td>72.000000</td>\n",
              "      <td>23.000000</td>\n",
              "      <td>30.500000</td>\n",
              "      <td>32.000000</td>\n",
              "      <td>0.372500</td>\n",
              "      <td>29.000000</td>\n",
              "      <td>0.000000</td>\n",
              "    </tr>\n",
              "    <tr>\n",
              "      <th>75%</th>\n",
              "      <td>6.000000</td>\n",
              "      <td>140.250000</td>\n",
              "      <td>80.000000</td>\n",
              "      <td>32.000000</td>\n",
              "      <td>127.250000</td>\n",
              "      <td>36.600000</td>\n",
              "      <td>0.626250</td>\n",
              "      <td>41.000000</td>\n",
              "      <td>1.000000</td>\n",
              "    </tr>\n",
              "    <tr>\n",
              "      <th>max</th>\n",
              "      <td>17.000000</td>\n",
              "      <td>199.000000</td>\n",
              "      <td>122.000000</td>\n",
              "      <td>99.000000</td>\n",
              "      <td>846.000000</td>\n",
              "      <td>67.100000</td>\n",
              "      <td>2.420000</td>\n",
              "      <td>81.000000</td>\n",
              "      <td>1.000000</td>\n",
              "    </tr>\n",
              "  </tbody>\n",
              "</table>\n",
              "</div>"
            ],
            "text/plain": [
              "       pregnancies     glucose  blood_pressure  skin_thickness     insulin  \\\n",
              "count   768.000000  768.000000      768.000000      768.000000  768.000000   \n",
              "mean      3.845052  120.894531       69.105469       20.536458   79.799479   \n",
              "std       3.369578   31.972618       19.355807       15.952218  115.244002   \n",
              "min       0.000000    0.000000        0.000000        0.000000    0.000000   \n",
              "25%       1.000000   99.000000       62.000000        0.000000    0.000000   \n",
              "50%       3.000000  117.000000       72.000000       23.000000   30.500000   \n",
              "75%       6.000000  140.250000       80.000000       32.000000  127.250000   \n",
              "max      17.000000  199.000000      122.000000       99.000000  846.000000   \n",
              "\n",
              "              bmi  diabetes_pedigree         age      target  \n",
              "count  768.000000         768.000000  768.000000  768.000000  \n",
              "mean    31.992578           0.471876   33.240885    0.348958  \n",
              "std      7.884160           0.331329   11.760232    0.476951  \n",
              "min      0.000000           0.078000   21.000000    0.000000  \n",
              "25%     27.300000           0.243750   24.000000    0.000000  \n",
              "50%     32.000000           0.372500   29.000000    0.000000  \n",
              "75%     36.600000           0.626250   41.000000    1.000000  \n",
              "max     67.100000           2.420000   81.000000    1.000000  "
            ]
          },
          "execution_count": 40,
          "metadata": {},
          "output_type": "execute_result"
        }
      ],
      "source": [
        "#4-Aplicar revisión estadística de todas las variables aplicando describe() y comentar los hallazgos como lo revisado en clase\n",
        "df.describe()"
      ]
    },
    {
      "cell_type": "code",
      "execution_count": 41,
      "metadata": {
        "id": "WcqGqn5hiy0c"
      },
      "outputs": [],
      "source": [
        "#Pregnancies: La media es 3.84, con un valor máximo de 17.\n",
        "#Glucose: La media es de 120.89, con valores desde 0 (posiblemente faltantes) hasta 199, lo que indica una distribución amplia.\n",
        "#Blood Pressure: La media es de de 69.1, con un mínimo de 0, lo que indica qur hay valores nulos.\n",
        "#Skin Thickness: La media es de de 20.53 y un máximo de 99, y un mínimo de 0 que indica valores nulos.\n",
        "#Insulin: La media es de de 79.79 y tiene valores extremos hasta 846. Se deben analizar outliers.\n",
        "#BMI: La media es de de 31.99, con valores desde 0 hasta 67.1. El valor 0 no es realista.\n",
        "#Diabetes Pedigree: La media es de de 0.47, pero el máximo es 2.42, indicando posible sesgo en algunos casos.\n",
        "#Age: La media es de de 33.24, con valores hasta 81.\n",
        "#Target: La media es de 0.3489, lo que indica que el 35% de los pacientes tienen diabetes."
      ]
    },
    {
      "cell_type": "code",
      "execution_count": 42,
      "metadata": {
        "colab": {
          "base_uri": "https://localhost:8080/",
          "height": 272
        },
        "id": "jj8oFa_z6RsI",
        "outputId": "794a000c-63b8-493e-8b0b-11696a6b72d6"
      },
      "outputs": [
        {
          "data": {
            "text/plain": [
              "glucose              0\n",
              "blood_pressure       0\n",
              "skin_thickness       0\n",
              "insulin              0\n",
              "bmi                  0\n",
              "diabetes_pedigree    0\n",
              "dtype: int64"
            ]
          },
          "execution_count": 42,
          "metadata": {},
          "output_type": "execute_result"
        }
      ],
      "source": [
        "#5- Se debe revisar si existe datos nulos en las variables y/o campos del dataframe.\n",
        "df_diabetes.isnull().sum()\n"
      ]
    },
    {
      "cell_type": "code",
      "execution_count": 43,
      "metadata": {
        "id": "N4EM7NWcjsM8"
      },
      "outputs": [],
      "source": [
        "# Existen datos nulos para las variables glucose, blood_pressure, skin_thickness, insulin y bmi."
      ]
    },
    {
      "cell_type": "code",
      "execution_count": 44,
      "metadata": {
        "colab": {
          "base_uri": "https://localhost:8080/",
          "height": 424
        },
        "id": "pMY_jBrJ8FLN",
        "outputId": "c4e6e3bd-b06b-47ce-8dd8-4898956592ef"
      },
      "outputs": [
        {
          "data": {
            "text/html": [
              "<div>\n",
              "<style scoped>\n",
              "    .dataframe tbody tr th:only-of-type {\n",
              "        vertical-align: middle;\n",
              "    }\n",
              "\n",
              "    .dataframe tbody tr th {\n",
              "        vertical-align: top;\n",
              "    }\n",
              "\n",
              "    .dataframe thead th {\n",
              "        text-align: right;\n",
              "    }\n",
              "</style>\n",
              "<table border=\"1\" class=\"dataframe\">\n",
              "  <thead>\n",
              "    <tr style=\"text-align: right;\">\n",
              "      <th></th>\n",
              "      <th>glucose</th>\n",
              "      <th>blood_pressure</th>\n",
              "      <th>skin_thickness</th>\n",
              "      <th>insulin</th>\n",
              "      <th>bmi</th>\n",
              "      <th>diabetes_pedigree</th>\n",
              "      <th>diagnostico</th>\n",
              "    </tr>\n",
              "  </thead>\n",
              "  <tbody>\n",
              "    <tr>\n",
              "      <th>0</th>\n",
              "      <td>148.0</td>\n",
              "      <td>72.0</td>\n",
              "      <td>35.0</td>\n",
              "      <td>0.0</td>\n",
              "      <td>33.6</td>\n",
              "      <td>0.627</td>\n",
              "      <td>1</td>\n",
              "    </tr>\n",
              "    <tr>\n",
              "      <th>1</th>\n",
              "      <td>85.0</td>\n",
              "      <td>66.0</td>\n",
              "      <td>29.0</td>\n",
              "      <td>0.0</td>\n",
              "      <td>26.6</td>\n",
              "      <td>0.351</td>\n",
              "      <td>0</td>\n",
              "    </tr>\n",
              "    <tr>\n",
              "      <th>2</th>\n",
              "      <td>183.0</td>\n",
              "      <td>64.0</td>\n",
              "      <td>0.0</td>\n",
              "      <td>0.0</td>\n",
              "      <td>23.3</td>\n",
              "      <td>0.672</td>\n",
              "      <td>1</td>\n",
              "    </tr>\n",
              "    <tr>\n",
              "      <th>3</th>\n",
              "      <td>89.0</td>\n",
              "      <td>66.0</td>\n",
              "      <td>23.0</td>\n",
              "      <td>94.0</td>\n",
              "      <td>28.1</td>\n",
              "      <td>0.167</td>\n",
              "      <td>0</td>\n",
              "    </tr>\n",
              "    <tr>\n",
              "      <th>4</th>\n",
              "      <td>137.0</td>\n",
              "      <td>40.0</td>\n",
              "      <td>35.0</td>\n",
              "      <td>168.0</td>\n",
              "      <td>43.1</td>\n",
              "      <td>2.288</td>\n",
              "      <td>1</td>\n",
              "    </tr>\n",
              "    <tr>\n",
              "      <th>...</th>\n",
              "      <td>...</td>\n",
              "      <td>...</td>\n",
              "      <td>...</td>\n",
              "      <td>...</td>\n",
              "      <td>...</td>\n",
              "      <td>...</td>\n",
              "      <td>...</td>\n",
              "    </tr>\n",
              "    <tr>\n",
              "      <th>763</th>\n",
              "      <td>101.0</td>\n",
              "      <td>76.0</td>\n",
              "      <td>48.0</td>\n",
              "      <td>180.0</td>\n",
              "      <td>32.9</td>\n",
              "      <td>0.171</td>\n",
              "      <td>0</td>\n",
              "    </tr>\n",
              "    <tr>\n",
              "      <th>764</th>\n",
              "      <td>122.0</td>\n",
              "      <td>70.0</td>\n",
              "      <td>27.0</td>\n",
              "      <td>0.0</td>\n",
              "      <td>36.8</td>\n",
              "      <td>0.340</td>\n",
              "      <td>0</td>\n",
              "    </tr>\n",
              "    <tr>\n",
              "      <th>765</th>\n",
              "      <td>121.0</td>\n",
              "      <td>72.0</td>\n",
              "      <td>23.0</td>\n",
              "      <td>112.0</td>\n",
              "      <td>26.2</td>\n",
              "      <td>0.245</td>\n",
              "      <td>0</td>\n",
              "    </tr>\n",
              "    <tr>\n",
              "      <th>766</th>\n",
              "      <td>126.0</td>\n",
              "      <td>60.0</td>\n",
              "      <td>0.0</td>\n",
              "      <td>0.0</td>\n",
              "      <td>30.1</td>\n",
              "      <td>0.349</td>\n",
              "      <td>1</td>\n",
              "    </tr>\n",
              "    <tr>\n",
              "      <th>767</th>\n",
              "      <td>93.0</td>\n",
              "      <td>70.0</td>\n",
              "      <td>31.0</td>\n",
              "      <td>0.0</td>\n",
              "      <td>30.4</td>\n",
              "      <td>0.315</td>\n",
              "      <td>0</td>\n",
              "    </tr>\n",
              "  </tbody>\n",
              "</table>\n",
              "<p>768 rows × 7 columns</p>\n",
              "</div>"
            ],
            "text/plain": [
              "     glucose  blood_pressure  skin_thickness  insulin   bmi  \\\n",
              "0      148.0            72.0            35.0      0.0  33.6   \n",
              "1       85.0            66.0            29.0      0.0  26.6   \n",
              "2      183.0            64.0             0.0      0.0  23.3   \n",
              "3       89.0            66.0            23.0     94.0  28.1   \n",
              "4      137.0            40.0            35.0    168.0  43.1   \n",
              "..       ...             ...             ...      ...   ...   \n",
              "763    101.0            76.0            48.0    180.0  32.9   \n",
              "764    122.0            70.0            27.0      0.0  36.8   \n",
              "765    121.0            72.0            23.0    112.0  26.2   \n",
              "766    126.0            60.0             0.0      0.0  30.1   \n",
              "767     93.0            70.0            31.0      0.0  30.4   \n",
              "\n",
              "     diabetes_pedigree  diagnostico  \n",
              "0                0.627            1  \n",
              "1                0.351            0  \n",
              "2                0.672            1  \n",
              "3                0.167            0  \n",
              "4                2.288            1  \n",
              "..                 ...          ...  \n",
              "763              0.171            0  \n",
              "764              0.340            0  \n",
              "765              0.245            0  \n",
              "766              0.349            1  \n",
              "767              0.315            0  \n",
              "\n",
              "[768 rows x 7 columns]"
            ]
          },
          "execution_count": 44,
          "metadata": {},
          "output_type": "execute_result"
        }
      ],
      "source": [
        "# 6-Agregar el \"target\" al data frame a un campo llamado \"diagnostico\"\n",
        "target=df[\"target\"]\n",
        "df_diabetes[\"diagnostico\"] = target\n",
        "df_diabetes"
      ]
    },
    {
      "cell_type": "code",
      "execution_count": 45,
      "metadata": {
        "colab": {
          "base_uri": "https://localhost:8080/",
          "height": 125
        },
        "id": "dFMmkyKxDBkL",
        "outputId": "f5322123-88bc-4594-bc93-75d3af63443f"
      },
      "outputs": [
        {
          "data": {
            "text/html": [
              "<div>\n",
              "<style scoped>\n",
              "    .dataframe tbody tr th:only-of-type {\n",
              "        vertical-align: middle;\n",
              "    }\n",
              "\n",
              "    .dataframe tbody tr th {\n",
              "        vertical-align: top;\n",
              "    }\n",
              "\n",
              "    .dataframe thead th {\n",
              "        text-align: right;\n",
              "    }\n",
              "</style>\n",
              "<table border=\"1\" class=\"dataframe\">\n",
              "  <thead>\n",
              "    <tr style=\"text-align: right;\">\n",
              "      <th></th>\n",
              "      <th>Diagnóstico</th>\n",
              "      <th>Cantidad</th>\n",
              "    </tr>\n",
              "  </thead>\n",
              "  <tbody>\n",
              "    <tr>\n",
              "      <th>0</th>\n",
              "      <td>Sin Diabetes</td>\n",
              "      <td>500</td>\n",
              "    </tr>\n",
              "    <tr>\n",
              "      <th>1</th>\n",
              "      <td>Con Diabetes</td>\n",
              "      <td>268</td>\n",
              "    </tr>\n",
              "  </tbody>\n",
              "</table>\n",
              "</div>"
            ],
            "text/plain": [
              "    Diagnóstico  Cantidad\n",
              "0  Sin Diabetes       500\n",
              "1  Con Diabetes       268"
            ]
          },
          "execution_count": 45,
          "metadata": {},
          "output_type": "execute_result"
        }
      ],
      "source": [
        "# 7-Contar casos de diagnóstico de diabetes y sin diabetes existe y\n",
        "#este resultado graficarlo en un grafico de barras para compararlos.\n",
        "data_eval=pd.DataFrame(df_diabetes[\"diagnostico\"].value_counts())\n",
        "data_eval = data_eval.rename(index={0: \"Sin Diabetes\", 1: \"Con Diabetes\"})\n",
        "data_eval.reset_index(inplace=True)\n",
        "data_eval.columns = [\"Diagnóstico\", \"Cantidad\"]\n",
        "data_eval"
      ]
    },
    {
      "cell_type": "code",
      "execution_count": 46,
      "metadata": {
        "id": "3IFbILGlD1iE"
      },
      "outputs": [
        {
          "ename": "ModuleNotFoundError",
          "evalue": "No module named 'matplotlib'",
          "output_type": "error",
          "traceback": [
            "\u001b[31m---------------------------------------------------------------------------\u001b[39m",
            "\u001b[31mModuleNotFoundError\u001b[39m                       Traceback (most recent call last)",
            "\u001b[36mCell\u001b[39m\u001b[36m \u001b[39m\u001b[32mIn[46]\u001b[39m\u001b[32m, line 2\u001b[39m\n\u001b[32m      1\u001b[39m \u001b[38;5;66;03m#7-Grafico de barras comparativo\u001b[39;00m\n\u001b[32m----> \u001b[39m\u001b[32m2\u001b[39m \u001b[38;5;28;01mimport\u001b[39;00m\u001b[38;5;250m \u001b[39m\u001b[34;01mmatplotlib\u001b[39;00m\u001b[34;01m.\u001b[39;00m\u001b[34;01mpyplot\u001b[39;00m\u001b[38;5;250m \u001b[39m\u001b[38;5;28;01mas\u001b[39;00m\u001b[38;5;250m \u001b[39m\u001b[34;01mplt\u001b[39;00m\n",
            "\u001b[31mModuleNotFoundError\u001b[39m: No module named 'matplotlib'"
          ]
        }
      ],
      "source": [
        "#7-Grafico de barras comparativo\n",
        "import matplotlib.pyplot as plt"
      ]
    },
    {
      "cell_type": "code",
      "execution_count": null,
      "metadata": {
        "colab": {
          "base_uri": "https://localhost:8080/",
          "height": 411
        },
        "id": "tj26LvWGEGEH",
        "outputId": "58a7f3f3-f92b-4774-9b62-c8e892558ba9"
      },
      "outputs": [
        {
          "data": {
            "image/png": "[encoded data removed]",
            "text/plain": [
              "<Figure size 600x400 with 1 Axes>"
            ]
          },
          "metadata": {},
          "output_type": "display_data"
        }
      ],
      "source": [
        "plt.figure(figsize=(6, 4))\n",
        "plt.bar(data_eval[\"Diagnóstico\"], data_eval[\"Cantidad\"], color=['blue', 'orange'])\n",
        "plt.xlabel(\"Diagnóstico\")\n",
        "plt.ylabel(\"Cantidad de Casos\")\n",
        "plt.title(\"Cantidad de casos de diabetes\")\n",
        "plt.show()"
      ]
    },
    {
      "cell_type": "code",
      "execution_count": null,
      "metadata": {
        "id": "oAEeTvnuLui7"
      },
      "outputs": [],
      "source": [
        "#8-Realizar un boxplot de todas las variables.\n",
        "import seaborn as sns"
      ]
    },
    {
      "cell_type": "code",
      "execution_count": null,
      "metadata": {
        "colab": {
          "base_uri": "https://localhost:8080/",
          "height": 925
        },
        "id": "tVk3dZskQaem",
        "outputId": "3e910151-500a-44a0-a90a-66478789f5c9"
      },
      "outputs": [
        {
          "data": {
            "image/png": "[encoded data removed]",
            "text/plain": [
              "<Figure size 1500x1000 with 8 Axes>"
            ]
          },
          "metadata": {},
          "output_type": "display_data"
        }
      ],
      "source": [
        "fig, axs = plt.subplots(2, 4, figsize=(15, 10))\n",
        "plt.suptitle(\"ANÁLISIS DE VALORES ATÍPICOS\", size=18)\n",
        "sns.boxplot(y=df_diabetes[\"glucose\"], orient=\"v\", ax=axs[0,0], color=\"steelblue\")\n",
        "sns.boxplot(y=df_diabetes[\"blood_pressure\"], orient =\"v\", ax=axs[0,1], color=\"lightseagreen\")\n",
        "sns.boxplot(y=df_diabetes[\"skin_thickness\"], orient=\"v\", ax=axs[0,2], color=\"red\")\n",
        "sns.boxplot(y=df_diabetes[\"insulin\"], orient =\"v\", ax=axs[0,3], color=\"yellow\")\n",
        "sns.boxplot(y=df_diabetes[\"bmi\"], orient =\"v\", ax=axs[1,0], color=\"forestgreen\")\n",
        "sns.boxplot(y=df_diabetes[\"diabetes_pedigree\"], orient =\"v\", ax=axs[1,1], color=\"purple\")\n",
        "fig.subplots_adjust(wspace=0.5, hspace=0.5)\n",
        "plt.show()"
      ]
    },
    {
      "cell_type": "code",
      "execution_count": null,
      "metadata": {
        "colab": {
          "base_uri": "https://localhost:8080/",
          "height": 1000
        },
        "id": "jqqCmMXwVAnC",
        "outputId": "96ce9165-afba-4d1e-f2d5-6f64f7a828a5"
      },
      "outputs": [
        {
          "data": {
            "image/png": "[encoded data removed]",
            "text/plain": [
              "<Figure size 1700x1200 with 1 Axes>"
            ]
          },
          "metadata": {},
          "output_type": "display_data"
        }
      ],
      "source": [
        "#9-Encontrar cuales son las variables menos importantes y mencionarlas pero no retirarlas.Solo aplicar correlacion para el análisis.\n",
        "fig, ax = plt.subplots(figsize=(17,12))\n",
        "df_diabetes.corr()[\"diagnostico\"].sort_values(ascending=True).plot(kind=\"bar\",cmap=\"rainbow\",alpha=0.7)\n",
        "plt.title(\"ANALISIS DE CORRELACION\")\n",
        "for i in['bottom','left']:\n",
        "    ax.spines[i].set_color('black')\n",
        "    ax.spines[i].set_linewidth(1.5)\n",
        "right_side = ax.spines[\"right\"]\n",
        "right_side.set_visible(False)\n",
        "top_side = ax.spines[\"top\"]\n",
        "top_side.set_visible(False)\n",
        "ax.set_axisbelow(True)\n",
        "ax.grid(color='gray',linewidth=1,axis='y',alpha=0.4)\n",
        "plt.show()"
      ]
    },
    {
      "cell_type": "code",
      "execution_count": null,
      "metadata": {
        "colab": {
          "base_uri": "https://localhost:8080/"
        },
        "id": "iGEHCnBnYrl_",
        "outputId": "aeea1c08-77fe-4caa-a781-f80085ddd273"
      },
      "outputs": [
        {
          "name": "stdout",
          "output_type": "stream",
          "text": [
            "                    glucose  blood_pressure  skin_thickness   insulin  \\\n",
            "glucose            1.000000        0.152590        0.057328  0.331357   \n",
            "blood_pressure     0.152590        1.000000        0.207371  0.088933   \n",
            "skin_thickness     0.057328        0.207371        1.000000  0.436783   \n",
            "insulin            0.331357        0.088933        0.436783  1.000000   \n",
            "bmi                0.221071        0.281805        0.392573  0.197859   \n",
            "diabetes_pedigree  0.137337        0.041265        0.183928  0.185071   \n",
            "diagnostico        0.466581        0.065068        0.074752  0.130548   \n",
            "\n",
            "                        bmi  diabetes_pedigree  diagnostico  \n",
            "glucose            0.221071           0.137337     0.466581  \n",
            "blood_pressure     0.281805           0.041265     0.065068  \n",
            "skin_thickness     0.392573           0.183928     0.074752  \n",
            "insulin            0.197859           0.185071     0.130548  \n",
            "bmi                1.000000           0.140647     0.292695  \n",
            "diabetes_pedigree  0.140647           1.000000     0.173844  \n",
            "diagnostico        0.292695           0.173844     1.000000  \n"
          ]
        }
      ],
      "source": [
        "#Al revisar el coeficiente de Pearson se identificó  que las variables menos importantes son blood_pressure y skin_thickness ya que se\n",
        "# encuentren entre los intervalos 0 y 0.1.\n",
        "# Ademas al revisar la correlación entre las variable diagnostico, blood_pressure y skin_thickness se observa que la correlaciòn es la sigueinte:\n",
        "#  blood_pressure - diagnostico: 0.065068\n",
        "# skin_thickness - diagnostico: 0.074752\n",
        "print(df_diabetes.corr(numeric_only=True))"
      ]
    },
    {
      "cell_type": "code",
      "execution_count": null,
      "metadata": {
        "id": "ucaubnOGHPvm"
      },
      "outputs": [],
      "source": [
        "#10-Aplicar entrenamiento y predicción a los  modelo LogisticRegression y SVC\n",
        "#11- Presentar el resultado del scores de la predicción y matriz de confusión , luego comentar resultados"
      ]
    },
    {
      "cell_type": "code",
      "execution_count": null,
      "metadata": {
        "id": "-4ZT1jYKHMBk"
      },
      "outputs": [],
      "source": [
        "#a.Entrenamiento\n",
        "#Variables\n",
        "X= df_diabetes.drop(\"diagnostico\",axis=1)\n",
        "y=df_diabetes[\"diagnostico\"].values"
      ]
    },
    {
      "cell_type": "code",
      "execution_count": null,
      "metadata": {
        "id": "SGoUp8WveHpi"
      },
      "outputs": [],
      "source": [
        "#b.Variables para entrenamiento y prueba\n",
        "from sklearn.model_selection import train_test_split\n",
        "X_train, X_test, y_train, y_test = train_test_split(X, y, test_size=0.20, random_state=7, shuffle=True)\n"
      ]
    },
    {
      "cell_type": "code",
      "execution_count": null,
      "metadata": {
        "id": "qvoZFdpweNo_"
      },
      "outputs": [],
      "source": [
        "#c.Llamado a la libreria\n",
        "from sklearn.linear_model import LogisticRegression\n",
        "model= LogisticRegression()\n",
        "result= model.fit(X_train,y_train)"
      ]
    },
    {
      "cell_type": "code",
      "execution_count": null,
      "metadata": {
        "colab": {
          "base_uri": "https://localhost:8080/"
        },
        "id": "3FJgFlmdeZSv",
        "outputId": "e1db4ad3-1cc8-4d88-f213-9986daa71f91"
      },
      "outputs": [
        {
          "name": "stdout",
          "output_type": "stream",
          "text": [
            "Recall Score(Falsos Negativos) :0.5789473684210527\n",
            "Accuracy Score(Fraccion que modelo realizó correcto) :0.7792207792207793\n",
            "Precision Score(Falsos Positivos) :0.7674418604651163\n"
          ]
        }
      ],
      "source": [
        "#d.Validación con 3 parametros\n",
        "from sklearn.metrics import accuracy_score\n",
        "from sklearn.metrics import recall_score\n",
        "from sklearn.metrics import precision_score\n",
        "\n",
        "target_pred=model.predict(X_test)\n",
        "\n",
        "print(f'Recall Score(Falsos Negativos) :{recall_score(y_test,target_pred)}')\n",
        "print(f'Accuracy Score(Fraccion que modelo realizó correcto) :{accuracy_score(y_test,target_pred)}')\n",
        "print(f'Precision Score(Falsos Positivos) :{precision_score(y_test,target_pred)}')"
      ]
    },
    {
      "cell_type": "code",
      "execution_count": null,
      "metadata": {
        "colab": {
          "base_uri": "https://localhost:8080/"
        },
        "id": "ydDheZhjeqiN",
        "outputId": "08a4763c-f6cf-4094-a5b2-1941b059617e"
      },
      "outputs": [
        {
          "name": "stdout",
          "output_type": "stream",
          "text": [
            "Accuracy: 77.922%\n"
          ]
        }
      ],
      "source": [
        "# Predicción del modelo LogisticRegression con la función Accuracy\n",
        "def val_accuracy(d_test,y_predict):\n",
        "\n",
        "    accuracy=[]\n",
        "    true_value=d_test\n",
        "    predictions=y_predict\n",
        "    cont_true_val=0\n",
        "\n",
        "    #Conteo\n",
        "    for i in range(len(true_value)):\n",
        "        if true_value[i] == predictions[i]:\n",
        "            cont_true_val = cont_true_val + 1\n",
        "    #Calculo porcentaje\n",
        "    result=cont_true_val/float(len(true_value))*100.0\n",
        "    accuracy.append(result)\n",
        "    #Accuracy\n",
        "    print('Accuracy: %.3f%%' % (sum(accuracy)/float(len(accuracy))))\n",
        "#Obtenemos Accuracy\n",
        "val_accuracy(y_test,target_pred)"
      ]
    },
    {
      "cell_type": "code",
      "execution_count": null,
      "metadata": {
        "id": "Urk_ZrCuuhZf"
      },
      "outputs": [],
      "source": [
        "# Con el modelo LogisticRegression se obtuvo una precisón de 77.922%"
      ]
    },
    {
      "cell_type": "code",
      "execution_count": null,
      "metadata": {
        "id": "5K2Ak-SmuwQr"
      },
      "outputs": [],
      "source": [
        "# Matriz de confusión"
      ]
    },
    {
      "cell_type": "code",
      "execution_count": null,
      "metadata": {
        "id": "qQPWCahjf3uN"
      },
      "outputs": [],
      "source": [
        "from sklearn.metrics import accuracy_score\n",
        "from sklearn.metrics import confusion_matrix, ConfusionMatrixDisplay"
      ]
    },
    {
      "cell_type": "code",
      "execution_count": null,
      "metadata": {
        "colab": {
          "base_uri": "https://localhost:8080/",
          "height": 449
        },
        "id": "2JNNnXEOfisp",
        "outputId": "9d4b1416-9c73-4917-e0ab-cceded774c58"
      },
      "outputs": [
        {
          "data": {
            "image/png": "[encoded data removed]",
            "text/plain": [
              "<Figure size 640x480 with 2 Axes>"
            ]
          },
          "metadata": {},
          "output_type": "display_data"
        }
      ],
      "source": [
        "target_names=['Sin Diabetes','Con Diabetes']\n",
        "cm=confusion_matrix(y_test, target_pred, labels=model.classes_,normalize='true')\n",
        "display=ConfusionMatrixDisplay(confusion_matrix=cm, display_labels=target_names)\n",
        "display=display.plot(cmap=plt.cm.Blues)\n",
        "plt.show()"
      ]
    },
    {
      "cell_type": "code",
      "execution_count": null,
      "metadata": {
        "id": "XR3fkIT4wykn"
      },
      "outputs": [],
      "source": [
        "# El 90% de los casos fueron correctamente clasificados como \" Sin diabetes\" y el 58% de los casos como \"Con diabetes\"\n",
        "# Además,, presenta un 10% de error en la predicción de diabetes, 10% los casos fueron clasificados incorrectamente como casos con \"Con diabetes\"\n",
        "# Asimismo, 42% son casos \"Con diabetes\" que el modelo no detectó."
      ]
    },
    {
      "cell_type": "code",
      "execution_count": null,
      "metadata": {
        "id": "AMN0baiOf-0g"
      },
      "outputs": [],
      "source": [
        "# Predicción del modelo SVM con la función Accuracy\n",
        "from sklearn import svm"
      ]
    },
    {
      "cell_type": "code",
      "execution_count": null,
      "metadata": {
        "id": "ww-EYyuegC9L"
      },
      "outputs": [],
      "source": [
        "model_2=svm.SVC()"
      ]
    },
    {
      "cell_type": "code",
      "execution_count": null,
      "metadata": {
        "id": "ffLX9hXYgG_o"
      },
      "outputs": [],
      "source": [
        "result=model_2.fit(X_train, y_train)"
      ]
    },
    {
      "cell_type": "code",
      "execution_count": null,
      "metadata": {
        "colab": {
          "base_uri": "https://localhost:8080/"
        },
        "id": "khvDcONigIDB",
        "outputId": "8560887c-f379-4bb6-8ecc-149fb99f2e94"
      },
      "outputs": [
        {
          "name": "stdout",
          "output_type": "stream",
          "text": [
            "Recall Score (Falsos Negativos) :0.5789473684210527\n",
            "Accuracy Score (Fraccion que modelo realizó correct. ) :0.7792207792207793\n",
            "Precision Score (Falsos Positivos) :0.7674418604651163\n"
          ]
        }
      ],
      "source": [
        "target_pred_2 = model.predict(X_test)\n",
        "print(f'Recall Score (Falsos Negativos) :{recall_score(y_test,target_pred_2)}')\n",
        "print(f'Accuracy Score (Fraccion que modelo realizó correct. ) :{accuracy_score(y_test,target_pred_2)}')\n",
        "print(f'Precision Score (Falsos Positivos) :{precision_score(y_test,target_pred_2)}')"
      ]
    },
    {
      "cell_type": "code",
      "execution_count": null,
      "metadata": {
        "colab": {
          "base_uri": "https://localhost:8080/"
        },
        "id": "gwWnW9v7gPAH",
        "outputId": "5e7de91e-0080-444c-c392-16867c9d7626"
      },
      "outputs": [
        {
          "name": "stdout",
          "output_type": "stream",
          "text": [
            "Accuracy: 77.922%\n"
          ]
        }
      ],
      "source": [
        "# Llamado a la función Accuracy\n",
        "val_accuracy(y_test,target_pred_2)"
      ]
    },
    {
      "cell_type": "code",
      "execution_count": null,
      "metadata": {
        "id": "2-h7NZruvWOB"
      },
      "outputs": [],
      "source": [
        "# Con el modelo SVM también se obtuvo una precisón de 77.922%"
      ]
    },
    {
      "cell_type": "code",
      "execution_count": null,
      "metadata": {
        "colab": {
          "base_uri": "https://localhost:8080/",
          "height": 449
        },
        "id": "cYRBJ3rGg_hU",
        "outputId": "d4105dec-e536-48a6-a02e-fa621937c716"
      },
      "outputs": [
        {
          "data": {
            "image/png": "[encoded data removed]",
            "text/plain": [
              "<Figure size 640x480 with 2 Axes>"
            ]
          },
          "metadata": {},
          "output_type": "display_data"
        }
      ],
      "source": [
        "# Matriz de confusión\n",
        "target_names=['Sin Diabetes','Con Diabetes']\n",
        "cm=confusion_matrix(y_test, target_pred_2, labels=model_2.classes_,normalize='true')\n",
        "display=ConfusionMatrixDisplay(confusion_matrix=cm, display_labels=target_names)\n",
        "display=display.plot(cmap=plt.cm.Greens)\n",
        "plt.show()"
      ]
    },
    {
      "cell_type": "code",
      "execution_count": null,
      "metadata": {
        "id": "PrS62aQry59f"
      },
      "outputs": [],
      "source": [
        "#La matriz de confusión para el modelo SVM da los mismo resultados que el modelo LogisticRegression."
      ]
    },
    {
      "cell_type": "code",
      "execution_count": null,
      "metadata": {
        "id": "Dtc24aajx85r"
      },
      "outputs": [],
      "source": [
        "# Se concluye :\n",
        "# Precisión del modelo LogisticRegression: 77.922%\n",
        "# Precisión del modelo SVM: 77.922%\n",
        "# Al ser el resultado de los dos modelos iguales, se podrian utilizar cualquiera de los dos para realizar predicciones.\n",
        "# Sin embargo, dado que se quiere predecir a partir de datos estructurados se utilizaría el modelo de Logistic Regression.\n"
      ]
    }
  ],
  "metadata": {
    "colab": {
      "provenance": []
    },
    "kernelspec": {
      "display_name": "Python 3",
      "name": "python3"
    },
    "language_info": {
      "codemirror_mode": {
        "name": "ipython",
        "version": 3
      },
      "file_extension": ".py",
      "mimetype": "text/x-python",
      "name": "python",
      "nbconvert_exporter": "python",
      "pygments_lexer": "ipython3",
      "version": "3.13.3"
    }
  },
  "nbformat": 4,
  "nbformat_minor": 0
}
